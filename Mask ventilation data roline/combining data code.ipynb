{
 "cells": [
  {
   "cell_type": "code",
   "execution_count": 1,
   "metadata": {},
   "outputs": [
    {
     "ename": "NameError",
     "evalue": "name 'filenames' is not defined",
     "output_type": "error",
     "traceback": [
      "\u001b[1;31m---------------------------------------------------------------------------\u001b[0m",
      "\u001b[1;31mNameError\u001b[0m                                 Traceback (most recent call last)",
      "\u001b[1;32m<ipython-input-1-d4f0710db06b>\u001b[0m in \u001b[0;36m<module>\u001b[1;34m()\u001b[0m\n\u001b[0;32m      1\u001b[0m \u001b[1;32mimport\u001b[0m \u001b[0mpandas\u001b[0m \u001b[1;32mas\u001b[0m \u001b[0mpd\u001b[0m\u001b[1;33m\u001b[0m\u001b[0m\n\u001b[1;32m----> 2\u001b[1;33m \u001b[0mcombined_csv\u001b[0m \u001b[1;33m=\u001b[0m \u001b[0mpd\u001b[0m\u001b[1;33m.\u001b[0m\u001b[0mconcat\u001b[0m\u001b[1;33m(\u001b[0m \u001b[1;33m[\u001b[0m \u001b[0mpd\u001b[0m\u001b[1;33m.\u001b[0m\u001b[0mread_csv\u001b[0m\u001b[1;33m(\u001b[0m\u001b[0mf\u001b[0m\u001b[1;33m)\u001b[0m \u001b[1;32mfor\u001b[0m \u001b[0mf\u001b[0m \u001b[1;32min\u001b[0m \u001b[0mfilenames\u001b[0m \u001b[1;33m]\u001b[0m \u001b[1;33m)\u001b[0m\u001b[1;33m\u001b[0m\u001b[0m\n\u001b[0m",
      "\u001b[1;31mNameError\u001b[0m: name 'filenames' is not defined"
     ]
    }
   ],
   "source": [
    "import pandas as pd\n",
    "combined_csv = pd.concat( [ pd.read_csv(f) for f in filenames ] )"
   ]
  },
  {
   "cell_type": "code",
   "execution_count": 3,
   "metadata": {},
   "outputs": [],
   "source": [
    "import os\n"
   ]
  },
  {
   "cell_type": "code",
   "execution_count": 4,
   "metadata": {},
   "outputs": [
    {
     "name": "stdout",
     "output_type": "stream",
     "text": [
      "['mask_ventrule111.csv', 'mask_ventrule56.csv', 'mask_ventrule57.csv', 'mask_ventrule60.csv', 'mask_ventrule61.csv', 'mask_ventrule62.csv', 'mask_ventrule65.csv', 'mask_ventrule66.csv', 'mask_ventrule69.csv', 'mask_ventrule70.csv', 'mask_ventrule76.csv', 'mask_ventrule77.csv', 'mask_ventrule80.csv', 'mask_ventrule81.csv', 'mask_ventrule84.csv', 'mask_ventrule85.csv', 'mask_ventrule91.csv', 'mask_ventrule94.csv', 'mask_ventrule95.csv', 'mcombined_csv.csv']\n"
     ]
    }
   ],
   "source": [
    "import os\n",
    "import glob\n",
    "\n",
    "path = 'G:\\\\final year project\\\\Mask ventillation\\\\paper_jotsna\\\\Mv56to111'\n",
    "extension = 'csv'\n",
    "os.chdir(path)\n",
    "result = [i for i in glob.glob('m*.{}'.format(extension))]\n",
    "print(result)"
   ]
  },
  {
   "cell_type": "code",
   "execution_count": 5,
   "metadata": {},
   "outputs": [],
   "source": [
    "import pandas as pd\n",
    "combined_csv = pd.concat( [ pd.read_csv(f) for f in result ] )"
   ]
  },
  {
   "cell_type": "code",
   "execution_count": 6,
   "metadata": {},
   "outputs": [],
   "source": [
    "combined_csv.to_csv( \"combined_new_csv.csv\", index=False )"
   ]
  },
  {
   "cell_type": "code",
   "execution_count": 3,
   "metadata": {},
   "outputs": [
    {
     "name": "stdout",
     "output_type": "stream",
     "text": [
      "['macroglossia_rule_1.csv', 'macroglossia_rule_2.csv', 'macroglossia_rule_3.csv', 'macroglossia_rule_4.csv', 'macroglossia_rule_5.csv', 'macroglossia_rule_6.csv', 'macroglossia_rule_7.csv', 'macroglossia_rule_8.csv']\n"
     ]
    }
   ],
   "source": [
    "# macroglossia data combining\n",
    "import os\n",
    "import glob\n",
    "\n",
    "path = 'G:\\\\final year project\\\\Mask ventillation\\\\Mask ventilation data and code\\\\Mask ventilation data roline'\n",
    "extension = 'csv'\n",
    "os.chdir(path)\n",
    "result = [i for i in glob.glob('macro*.{}'.format(extension))]\n",
    "print(result)"
   ]
  },
  {
   "cell_type": "code",
   "execution_count": 4,
   "metadata": {},
   "outputs": [],
   "source": [
    "import pandas as pd\n",
    "combined_csv = pd.concat( [ pd.read_csv(f) for f in result ] )"
   ]
  },
  {
   "cell_type": "code",
   "execution_count": 5,
   "metadata": {},
   "outputs": [],
   "source": [
    "combined_csv.to_csv( \"macroglossia_data_combined.csv\", index=False )"
   ]
  },
  {
   "cell_type": "code",
   "execution_count": 6,
   "metadata": {},
   "outputs": [],
   "source": [
    "#macro+final data\n",
    "import os\n",
    "import glob\n",
    "result=['macroglossia_data_combined.csv','final_dataset_mask_ventilation.csv']"
   ]
  },
  {
   "cell_type": "code",
   "execution_count": 7,
   "metadata": {},
   "outputs": [
    {
     "name": "stdout",
     "output_type": "stream",
     "text": [
      "['macroglossia_data_combined.csv', 'final_dataset_mask_ventilation.csv']\n"
     ]
    }
   ],
   "source": [
    "print(result)"
   ]
  },
  {
   "cell_type": "code",
   "execution_count": 8,
   "metadata": {},
   "outputs": [],
   "source": [
    "import pandas as pd\n",
    "combined_csv = pd.concat( [ pd.read_csv(f) for f in result ] )"
   ]
  },
  {
   "cell_type": "code",
   "execution_count": 9,
   "metadata": {},
   "outputs": [],
   "source": [
    "combined_csv.to_csv( \"Mask_ventilation_dataset.csv\", index=False )"
   ]
  },
  {
   "cell_type": "code",
   "execution_count": 10,
   "metadata": {},
   "outputs": [],
   "source": [
    "# mask_ventilation_dataset+ snoring data\n",
    "import os\n",
    "import glob\n",
    "result=['Mask_ventilation_dataset.csv','scombined_csv.csv']"
   ]
  },
  {
   "cell_type": "code",
   "execution_count": 11,
   "metadata": {},
   "outputs": [
    {
     "name": "stdout",
     "output_type": "stream",
     "text": [
      "['Mask_ventilation_dataset.csv', 'scombined_csv.csv']\n"
     ]
    }
   ],
   "source": [
    "print(result)"
   ]
  },
  {
   "cell_type": "code",
   "execution_count": 12,
   "metadata": {},
   "outputs": [],
   "source": [
    "import pandas as pd\n",
    "combined_csv = pd.concat( [ pd.read_csv(f) for f in result ] )"
   ]
  },
  {
   "cell_type": "code",
   "execution_count": 13,
   "metadata": {},
   "outputs": [],
   "source": [
    "combined_csv.to_csv( \"Mask_ventilation_dataset_final_dataset.csv\", index=False )"
   ]
  },
  {
   "cell_type": "code",
   "execution_count": null,
   "metadata": {},
   "outputs": [],
   "source": []
  }
 ],
 "metadata": {
  "kernelspec": {
   "display_name": "Python 3",
   "language": "python",
   "name": "python3"
  },
  "language_info": {
   "codemirror_mode": {
    "name": "ipython",
    "version": 3
   },
   "file_extension": ".py",
   "mimetype": "text/x-python",
   "name": "python",
   "nbconvert_exporter": "python",
   "pygments_lexer": "ipython3",
   "version": "3.6.5"
  }
 },
 "nbformat": 4,
 "nbformat_minor": 2
}
